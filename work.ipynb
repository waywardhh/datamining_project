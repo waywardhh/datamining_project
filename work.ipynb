{
 "cells": [
  {
   "cell_type": "code",
   "execution_count": null,
   "metadata": {
    "collapsed": true
   },
   "outputs": [],
   "source": []
  },
  {
   "cell_type": "code",
   "execution_count": null,
   "outputs": [],
   "source": [
    "import pandas as pd\n",
    "import matplotlib.pyplot as plt\n",
    "import seaborn as sns\n",
    "plt.rcParams['font.sans-serif']=['Microsoft YaHei']\n",
    "data_filename = \"customer.csv\"\n",
    "results = pd.read_csv(data_filename)\n",
    "print(results.columns)\n",
    "the_need_man = results[results.X1 == \"先生\"]\n",
    "#男女对比\n",
    "the_need_sex_data = results['X1'].value_counts()\n",
    "the_need_sex_data.index.name = \"性别\"\n",
    "the_need_sex_data.name = '性别'\n",
    "the_need_sex_data.plot.pie(title ='性别对比图')\n",
    "print(the_need_sex_data)\n",
    "#男女年龄对比\n",
    "the_six_age_contrast_data = results.groupby(['X2','X1']).size().unstack()\n",
    "the_six_age_contrast_data.columns.name = '性别'\n",
    "the_six_age_contrast_data.index.name = \"年龄\"\n",
    "print(the_six_age_contrast_data )\n",
    "the_six_age_contrast_data.plot(title = '男女年龄统计')\n",
    "plt.show()\n",
    "#星级分布图\n",
    "the_costomer_star_data = results.groupby(['X3']).size()\n",
    "print(the_costomer_star_data)\n",
    "the_costomer_star_data.plot(kind=\"barh\", title=\"星级统计\")\n",
    "#细分市场分布图\n",
    "the_market_data = results.groupby(['X5']).size()\n",
    "the_costomer_star_data.plot(kind=\"pie\", title=\"细分市场分布图\")\n",
    "\n",
    "#潜在用户的数据\n",
    "the_deta_consumption_data1 = results[\"X6\"] - results[\"X7\"]\n",
    "the_deta_consumption_data2 = results['X7'] - results['X8']\n",
    "the_potenial_costomer_data = results[(the_deta_consumption_data2 > 0) | (the_deta_consumption_data2 > 0)]\n",
    "the_potenial_costomer_market_data = the_potenial_costomer_data.groupby(['X5']).size()\n",
    "the_potenial_costomer_gender_data = the_potenial_costomer_data.groupby(['X1']).size()\n",
    "the_potenial_costomer_gender_data.plot(kind = \"pie\")\n",
    "the_potenial_costomer_market_data.plot(kind = \"pie\")\n",
    "#基于男女年龄的消费数据\n",
    "the_consumption_age_contrast_gender_data = results['X6'].groupby([results[\"X2\"], results['X1']]).mean().unstack()\n",
    "the_consumption_age_contrast_gender_data.columns.name = \"性别\"\n",
    "the_consumption_age_contrast_gender_data.index.name = \"年龄\"\n",
    "the_consumption_age_contrast_gender_data.plot(title = \"男女年龄的消费数据\")\n",
    "#基于男女在网时长的消费数据\n",
    "the_consumption_time_contrast_gender_data = results['X6'].groupby([results[\"X4\"], results['X1']]).mean().unstack()\n",
    "the_consumption_age_contrast_gender_data.columns.name = '性别'\n",
    "the_consumption_time_contrast_gender_data.index.name = '在网时长'\n",
    "the_consumption_time_contrast_gender_data.plot(title = \"男女在网时长的消费数据\")\n"
   ],
   "metadata": {
    "collapsed": false
   }
  },
  {
   "cell_type": "code",
   "execution_count": null,
   "outputs": [],
   "source": [],
   "metadata": {
    "collapsed": false,
    "pycharm": {
     "is_executing": true
    }
   }
  },
  {
   "cell_type": "code",
   "execution_count": null,
   "outputs": [],
   "source": [
    "#基于男女年龄的流量数据\n",
    "the_consumption_age_contrast_gender_data = results['X16'].groupby([results[\"X2\"], results['X1']]).mean().unstack()\n",
    "the_consumption_age_contrast_gender_data.columns.name = \"性别\"\n",
    "the_consumption_age_contrast_gender_data.index.name = \"年龄\"\n",
    "the_consumption_age_contrast_gender_data.plot(title = \"男女年龄的流量数据\",ylabel = '消费平均数')\n",
    "#基于男女在网时长的流量数据\n",
    "the_consumption_time_contrast_gender_data = results['X16'].groupby([results[\"X4\"], results['X1']]).mean().unstack()\n",
    "the_consumption_age_contrast_gender_data.columns.name = '性别'\n",
    "the_consumption_time_contrast_gender_data.index.name = '在网时长'\n",
    "the_consumption_time_contrast_gender_data.plot(title = \"男女在网时长的流量数据\",ylabel = \"消费平均数\")"
   ],
   "metadata": {
    "collapsed": false
   }
  },
  {
   "cell_type": "code",
   "execution_count": null,
   "outputs": [],
   "source": [
    "#基于男女年龄的视频数据\n",
    "the_consumption_age_contrast_gender_data = results['X17'].groupby([results[\"X2\"], results['X1']]).mean().unstack()\n",
    "the_consumption_age_contrast_gender_data.columns.name = \"性别\"\n",
    "the_consumption_age_contrast_gender_data.index.name = \"年龄\"\n",
    "the_consumption_age_contrast_gender_data.plot(title = \"男女年龄的视频通话数据\",ylabel = '消费平均数')\n",
    "#基于男女在网时长的视频数据\n",
    "the_consumption_time_contrast_gender_data = results['X17'].groupby([results[\"X4\"], results['X1']]).mean().unstack()\n",
    "the_consumption_age_contrast_gender_data.columns.name = '性别'\n",
    "the_consumption_time_contrast_gender_data.index.name = '在网时长'\n",
    "the_consumption_time_contrast_gender_data.plot( title = \"男女在网时长的视频通话数据\",ylabel = \"消费平均数\")"
   ],
   "metadata": {
    "collapsed": false
   }
  },
  {
   "cell_type": "code",
   "execution_count": null,
   "outputs": [],
   "source": [
    "#基于细分市场的年龄的消费数据\n",
    "the_consumption_age_contrast_gender_data = results['X15'].groupby([results[\"X2\"], results['X5']]).mean().unstack()\n",
    "the_consumption_age_contrast_gender_data.columns.name = \"细分市场\"\n",
    "the_consumption_age_contrast_gender_data.index.name = \"年龄\"\n",
    "the_consumption_age_contrast_gender_data.plot(title = \"细分市场年龄的消费数据\",ylabel = '消费平均数',figsize = (10,6))\n",
    "#基于细分市场在网时长的消费数据\n",
    "the_consumption_time_contrast_gender_data = results['X15'].groupby([results[\"X4\"], results['X5']]).mean().unstack()\n",
    "the_consumption_age_contrast_gender_data.columns.name = '细分市场'\n",
    "the_consumption_time_contrast_gender_data.index.name = '在网时长'\n",
    "the_consumption_time_contrast_gender_data.plot(kind = 'barh', title = \"细分市场在网时长的消费数据\",ylabel = \"消费平均数\")\n",
    "#基于细分市场年龄的流量数据\n",
    "the_consumption_age_contrast_gender_data = results['X16'].groupby([results[\"X2\"], results['X5']]).mean().unstack()\n",
    "the_consumption_age_contrast_gender_data.columns.name = \"细分市场\"\n",
    "the_consumption_age_contrast_gender_data.index.name = \"年龄\"\n",
    "the_consumption_age_contrast_gender_data.plot(title = \"细分市场年龄的流量数据\",ylabel = '消费平均数')\n",
    "#基于细分市场在网时长的流量数据\n",
    "the_consumption_time_contrast_gender_data = results['X16'].groupby([results[\"X4\"], results['X5']]).mean().unstack()\n",
    "the_consumption_age_contrast_gender_data.columns.name = '细分市场'\n",
    "the_consumption_time_contrast_gender_data.index.name = '在网时长'\n",
    "the_consumption_time_contrast_gender_data.plot(kind = 'barh', title = \"细分市场在网时长的流量数据\",ylabel = \"消费平均数\")\n",
    "#基于细分市场年龄的通话数据\n",
    "the_consumption_age_contrast_gender_data = results['X17'].groupby([results[\"X2\"], results['X5']]).mean().unstack()\n",
    "the_consumption_age_contrast_gender_data.columns.name = \"细分市场\"\n",
    "the_consumption_age_contrast_gender_data.index.name = \"年龄\"\n",
    "the_consumption_age_contrast_gender_data.plot(title = \"细分市场年龄的通话数据\",ylabel = '消费平均数')\n",
    "#基于细分市场在网时长的通话数据\n",
    "the_consumption_time_contrast_gender_data = results['X17'].groupby([results[\"X4\"], results['X5']]).mean().unstack()\n",
    "the_consumption_age_contrast_gender_data.columns.name = '细分市场'\n",
    "the_consumption_time_contrast_gender_data.index.name = '在网时长'\n",
    "the_consumption_time_contrast_gender_data.plot(kind = \"barh\", title=\"细分市场在网时长的通话数据\", ylabel=\"消费平均数\")"
   ],
   "metadata": {
    "collapsed": false
   }
  },
  {
   "cell_type": "code",
   "execution_count": null,
   "outputs": [],
   "source": [
    "test_data = results.groupby([results['X1'],results['X5']]).size().unstack()\n",
    "test_data.plot(kind = \"bar\",stacked=True)\n"
   ],
   "metadata": {
    "collapsed": false
   }
  },
  {
   "cell_type": "code",
   "execution_count": null,
   "outputs": [],
   "source": [],
   "metadata": {
    "collapsed": false
   }
  }
 ],
 "metadata": {
  "kernelspec": {
   "display_name": "Python 3",
   "language": "python",
   "name": "python3"
  },
  "language_info": {
   "codemirror_mode": {
    "name": "ipython",
    "version": 2
   },
   "file_extension": ".py",
   "mimetype": "text/x-python",
   "name": "python",
   "nbconvert_exporter": "python",
   "pygments_lexer": "ipython2",
   "version": "2.7.6"
  }
 },
 "nbformat": 4,
 "nbformat_minor": 0
}
